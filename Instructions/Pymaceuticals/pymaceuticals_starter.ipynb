{
 "cells": [
  {
   "cell_type": "markdown",
   "metadata": {},
   "source": [
    "## Observations and Insights \n",
    " - When it comes to tumor volume, we are looking to see which drug has the greatest effect. The Summary Statistics table suggests that Ketapril and Naftisol may have a more significant impact on tumor size as they have the largest variance and standard deviations. Alternatively, Ramicane and Capomulin show the smallest variance and standard deviations, suggesting they have a smaller impact on tumor size. \n",
    "\n",
    " - Something to consider, however is that Ramicane and Capomulin have greater timepoints assessed, per the bar charts. Perhaps the data skews the significance of the Summary Statistics. If the other drugs had the same number o timepoints there may be less variance. \n",
    "\n",
    " - When comparing the four drug regimens, Capomulin, Ramicane, Infubinol, and Ceftamin and their box plots, it seems Capomulin and Ramicane have significantly smaller tumor sizes than Ceftamin. However, it would prove to be beneficial to review the initial volumes compared to the final volumes to see which drug has the greatest impact.\n",
    "\n"
   ]
  },
  {
   "cell_type": "code",
   "execution_count": 280,
   "metadata": {
    "scrolled": true
   },
   "outputs": [
    {
     "data": {
      "text/html": [
       "<div>\n",
       "<style scoped>\n",
       "    .dataframe tbody tr th:only-of-type {\n",
       "        vertical-align: middle;\n",
       "    }\n",
       "\n",
       "    .dataframe tbody tr th {\n",
       "        vertical-align: top;\n",
       "    }\n",
       "\n",
       "    .dataframe thead th {\n",
       "        text-align: right;\n",
       "    }\n",
       "</style>\n",
       "<table border=\"1\" class=\"dataframe\">\n",
       "  <thead>\n",
       "    <tr style=\"text-align: right;\">\n",
       "      <th></th>\n",
       "      <th>Mouse ID</th>\n",
       "      <th>Drug Regimen</th>\n",
       "      <th>Sex</th>\n",
       "      <th>Age_months</th>\n",
       "      <th>Weight (g)</th>\n",
       "      <th>Timepoint</th>\n",
       "      <th>Tumor Volume (mm3)</th>\n",
       "      <th>Metastatic Sites</th>\n",
       "    </tr>\n",
       "  </thead>\n",
       "  <tbody>\n",
       "    <tr>\n",
       "      <th>0</th>\n",
       "      <td>k403</td>\n",
       "      <td>Ramicane</td>\n",
       "      <td>Male</td>\n",
       "      <td>21</td>\n",
       "      <td>16</td>\n",
       "      <td>0</td>\n",
       "      <td>45.000000</td>\n",
       "      <td>0</td>\n",
       "    </tr>\n",
       "    <tr>\n",
       "      <th>1</th>\n",
       "      <td>k403</td>\n",
       "      <td>Ramicane</td>\n",
       "      <td>Male</td>\n",
       "      <td>21</td>\n",
       "      <td>16</td>\n",
       "      <td>5</td>\n",
       "      <td>38.825898</td>\n",
       "      <td>0</td>\n",
       "    </tr>\n",
       "    <tr>\n",
       "      <th>2</th>\n",
       "      <td>k403</td>\n",
       "      <td>Ramicane</td>\n",
       "      <td>Male</td>\n",
       "      <td>21</td>\n",
       "      <td>16</td>\n",
       "      <td>10</td>\n",
       "      <td>35.014271</td>\n",
       "      <td>1</td>\n",
       "    </tr>\n",
       "    <tr>\n",
       "      <th>3</th>\n",
       "      <td>k403</td>\n",
       "      <td>Ramicane</td>\n",
       "      <td>Male</td>\n",
       "      <td>21</td>\n",
       "      <td>16</td>\n",
       "      <td>15</td>\n",
       "      <td>34.223992</td>\n",
       "      <td>1</td>\n",
       "    </tr>\n",
       "    <tr>\n",
       "      <th>4</th>\n",
       "      <td>k403</td>\n",
       "      <td>Ramicane</td>\n",
       "      <td>Male</td>\n",
       "      <td>21</td>\n",
       "      <td>16</td>\n",
       "      <td>20</td>\n",
       "      <td>32.997729</td>\n",
       "      <td>1</td>\n",
       "    </tr>\n",
       "  </tbody>\n",
       "</table>\n",
       "</div>"
      ],
      "text/plain": [
       "  Mouse ID Drug Regimen   Sex  Age_months  Weight (g)  Timepoint  \\\n",
       "0     k403     Ramicane  Male          21          16          0   \n",
       "1     k403     Ramicane  Male          21          16          5   \n",
       "2     k403     Ramicane  Male          21          16         10   \n",
       "3     k403     Ramicane  Male          21          16         15   \n",
       "4     k403     Ramicane  Male          21          16         20   \n",
       "\n",
       "   Tumor Volume (mm3)  Metastatic Sites  \n",
       "0           45.000000                 0  \n",
       "1           38.825898                 0  \n",
       "2           35.014271                 1  \n",
       "3           34.223992                 1  \n",
       "4           32.997729                 1  "
      ]
     },
     "execution_count": 280,
     "metadata": {},
     "output_type": "execute_result"
    }
   ],
   "source": [
    "# Dependencies and Setup\n",
    "import matplotlib.pyplot as plt\n",
    "import pandas as pd\n",
    "import scipy.stats as st\n",
    "import numpy as np\n",
    "from scipy.stats import linregress\n",
    "\n",
    "# Study data files\n",
    "mouse_metadata_path = \"data/Mouse_metadata.csv\"\n",
    "study_results_path = \"data/Study_results.csv\"\n",
    "\n",
    "# Read the mouse data and the study results\n",
    "mouse_metadata = pd.read_csv(mouse_metadata_path)\n",
    "study_results = pd.read_csv(study_results_path)\n",
    "\n",
    "# Combine the data into a single dataset\n",
    "mouse_data_complete = pd.merge(mouse_metadata, study_results, how=\"inner\", on=\"Mouse ID\")\n",
    "# Display the data table for preview\n",
    "mouse_data_complete.head()"
   ]
  },
  {
   "cell_type": "code",
   "execution_count": 281,
   "metadata": {},
   "outputs": [
    {
     "data": {
      "text/plain": [
       "249"
      ]
     },
     "execution_count": 281,
     "metadata": {},
     "output_type": "execute_result"
    }
   ],
   "source": [
    "# Checking the number of mice.\n",
    "len(mouse_data_complete[\"Mouse ID\"].unique())"
   ]
  },
  {
   "cell_type": "code",
   "execution_count": 282,
   "metadata": {},
   "outputs": [
    {
     "data": {
      "text/plain": [
       "909    g989\n",
       "911    g989\n",
       "913    g989\n",
       "915    g989\n",
       "917    g989\n",
       "Name: Mouse ID, dtype: object"
      ]
     },
     "execution_count": 282,
     "metadata": {},
     "output_type": "execute_result"
    }
   ],
   "source": [
    "# Getting the duplicate mice by ID number that shows up for Mouse ID and Timepoint. \n",
    "\n",
    "dup_mice_ids = mouse_data_complete.loc[mouse_data_complete.duplicated(subset=[\"Mouse ID\", \"Timepoint\"])]\n",
    "dup_mice_ids[\"Mouse ID\"]"
   ]
  },
  {
   "cell_type": "code",
   "execution_count": 283,
   "metadata": {},
   "outputs": [
    {
     "data": {
      "text/html": [
       "<div>\n",
       "<style scoped>\n",
       "    .dataframe tbody tr th:only-of-type {\n",
       "        vertical-align: middle;\n",
       "    }\n",
       "\n",
       "    .dataframe tbody tr th {\n",
       "        vertical-align: top;\n",
       "    }\n",
       "\n",
       "    .dataframe thead th {\n",
       "        text-align: right;\n",
       "    }\n",
       "</style>\n",
       "<table border=\"1\" class=\"dataframe\">\n",
       "  <thead>\n",
       "    <tr style=\"text-align: right;\">\n",
       "      <th></th>\n",
       "      <th>Mouse ID</th>\n",
       "      <th>Drug Regimen</th>\n",
       "      <th>Sex</th>\n",
       "      <th>Age_months</th>\n",
       "      <th>Weight (g)</th>\n",
       "      <th>Timepoint</th>\n",
       "      <th>Tumor Volume (mm3)</th>\n",
       "      <th>Metastatic Sites</th>\n",
       "    </tr>\n",
       "  </thead>\n",
       "  <tbody>\n",
       "    <tr>\n",
       "      <th>908</th>\n",
       "      <td>g989</td>\n",
       "      <td>Propriva</td>\n",
       "      <td>Female</td>\n",
       "      <td>21</td>\n",
       "      <td>26</td>\n",
       "      <td>0</td>\n",
       "      <td>45.000000</td>\n",
       "      <td>0</td>\n",
       "    </tr>\n",
       "    <tr>\n",
       "      <th>909</th>\n",
       "      <td>g989</td>\n",
       "      <td>Propriva</td>\n",
       "      <td>Female</td>\n",
       "      <td>21</td>\n",
       "      <td>26</td>\n",
       "      <td>0</td>\n",
       "      <td>45.000000</td>\n",
       "      <td>0</td>\n",
       "    </tr>\n",
       "    <tr>\n",
       "      <th>910</th>\n",
       "      <td>g989</td>\n",
       "      <td>Propriva</td>\n",
       "      <td>Female</td>\n",
       "      <td>21</td>\n",
       "      <td>26</td>\n",
       "      <td>5</td>\n",
       "      <td>48.786801</td>\n",
       "      <td>0</td>\n",
       "    </tr>\n",
       "    <tr>\n",
       "      <th>911</th>\n",
       "      <td>g989</td>\n",
       "      <td>Propriva</td>\n",
       "      <td>Female</td>\n",
       "      <td>21</td>\n",
       "      <td>26</td>\n",
       "      <td>5</td>\n",
       "      <td>47.570392</td>\n",
       "      <td>0</td>\n",
       "    </tr>\n",
       "    <tr>\n",
       "      <th>912</th>\n",
       "      <td>g989</td>\n",
       "      <td>Propriva</td>\n",
       "      <td>Female</td>\n",
       "      <td>21</td>\n",
       "      <td>26</td>\n",
       "      <td>10</td>\n",
       "      <td>51.745156</td>\n",
       "      <td>0</td>\n",
       "    </tr>\n",
       "  </tbody>\n",
       "</table>\n",
       "</div>"
      ],
      "text/plain": [
       "    Mouse ID Drug Regimen     Sex  Age_months  Weight (g)  Timepoint  \\\n",
       "908     g989     Propriva  Female          21          26          0   \n",
       "909     g989     Propriva  Female          21          26          0   \n",
       "910     g989     Propriva  Female          21          26          5   \n",
       "911     g989     Propriva  Female          21          26          5   \n",
       "912     g989     Propriva  Female          21          26         10   \n",
       "\n",
       "     Tumor Volume (mm3)  Metastatic Sites  \n",
       "908           45.000000                 0  \n",
       "909           45.000000                 0  \n",
       "910           48.786801                 0  \n",
       "911           47.570392                 0  \n",
       "912           51.745156                 0  "
      ]
     },
     "execution_count": 283,
     "metadata": {},
     "output_type": "execute_result"
    }
   ],
   "source": [
    "# Optional: Get all the data for the duplicate mouse ID. \n",
    "\n",
    "dup_mice_data = mouse_data_complete.loc[mouse_data_complete[\"Mouse ID\"] == \"g989\"]\n",
    "dup_mice_data.head()"
   ]
  },
  {
   "cell_type": "code",
   "execution_count": 284,
   "metadata": {},
   "outputs": [
    {
     "data": {
      "text/html": [
       "<div>\n",
       "<style scoped>\n",
       "    .dataframe tbody tr th:only-of-type {\n",
       "        vertical-align: middle;\n",
       "    }\n",
       "\n",
       "    .dataframe tbody tr th {\n",
       "        vertical-align: top;\n",
       "    }\n",
       "\n",
       "    .dataframe thead th {\n",
       "        text-align: right;\n",
       "    }\n",
       "</style>\n",
       "<table border=\"1\" class=\"dataframe\">\n",
       "  <thead>\n",
       "    <tr style=\"text-align: right;\">\n",
       "      <th></th>\n",
       "      <th>Mouse ID</th>\n",
       "      <th>Drug Regimen</th>\n",
       "      <th>Sex</th>\n",
       "      <th>Age_months</th>\n",
       "      <th>Weight (g)</th>\n",
       "      <th>Timepoint</th>\n",
       "      <th>Tumor Volume (mm3)</th>\n",
       "      <th>Metastatic Sites</th>\n",
       "    </tr>\n",
       "  </thead>\n",
       "  <tbody>\n",
       "    <tr>\n",
       "      <th>0</th>\n",
       "      <td>k403</td>\n",
       "      <td>Ramicane</td>\n",
       "      <td>Male</td>\n",
       "      <td>21</td>\n",
       "      <td>16</td>\n",
       "      <td>0</td>\n",
       "      <td>45.000000</td>\n",
       "      <td>0</td>\n",
       "    </tr>\n",
       "    <tr>\n",
       "      <th>1</th>\n",
       "      <td>k403</td>\n",
       "      <td>Ramicane</td>\n",
       "      <td>Male</td>\n",
       "      <td>21</td>\n",
       "      <td>16</td>\n",
       "      <td>5</td>\n",
       "      <td>38.825898</td>\n",
       "      <td>0</td>\n",
       "    </tr>\n",
       "    <tr>\n",
       "      <th>2</th>\n",
       "      <td>k403</td>\n",
       "      <td>Ramicane</td>\n",
       "      <td>Male</td>\n",
       "      <td>21</td>\n",
       "      <td>16</td>\n",
       "      <td>10</td>\n",
       "      <td>35.014271</td>\n",
       "      <td>1</td>\n",
       "    </tr>\n",
       "    <tr>\n",
       "      <th>3</th>\n",
       "      <td>k403</td>\n",
       "      <td>Ramicane</td>\n",
       "      <td>Male</td>\n",
       "      <td>21</td>\n",
       "      <td>16</td>\n",
       "      <td>15</td>\n",
       "      <td>34.223992</td>\n",
       "      <td>1</td>\n",
       "    </tr>\n",
       "    <tr>\n",
       "      <th>4</th>\n",
       "      <td>k403</td>\n",
       "      <td>Ramicane</td>\n",
       "      <td>Male</td>\n",
       "      <td>21</td>\n",
       "      <td>16</td>\n",
       "      <td>20</td>\n",
       "      <td>32.997729</td>\n",
       "      <td>1</td>\n",
       "    </tr>\n",
       "  </tbody>\n",
       "</table>\n",
       "</div>"
      ],
      "text/plain": [
       "  Mouse ID Drug Regimen   Sex  Age_months  Weight (g)  Timepoint  \\\n",
       "0     k403     Ramicane  Male          21          16          0   \n",
       "1     k403     Ramicane  Male          21          16          5   \n",
       "2     k403     Ramicane  Male          21          16         10   \n",
       "3     k403     Ramicane  Male          21          16         15   \n",
       "4     k403     Ramicane  Male          21          16         20   \n",
       "\n",
       "   Tumor Volume (mm3)  Metastatic Sites  \n",
       "0           45.000000                 0  \n",
       "1           38.825898                 0  \n",
       "2           35.014271                 1  \n",
       "3           34.223992                 1  \n",
       "4           32.997729                 1  "
      ]
     },
     "execution_count": 284,
     "metadata": {},
     "output_type": "execute_result"
    }
   ],
   "source": [
    "# Create a clean DataFrame by dropping the duplicate mouse by its ID.\n",
    "\n",
    "mouse_data_complete.drop(mouse_data_complete.index[mouse_data_complete['Mouse ID'] == 'g989'], inplace=True)\n",
    "mouse_data_complete.head()"
   ]
  },
  {
   "cell_type": "code",
   "execution_count": 285,
   "metadata": {},
   "outputs": [
    {
     "data": {
      "text/plain": [
       "248"
      ]
     },
     "execution_count": 285,
     "metadata": {},
     "output_type": "execute_result"
    }
   ],
   "source": [
    "# Checking the number of mice in the clean DataFrame.\n",
    "len(mouse_data_complete[\"Mouse ID\"].unique())"
   ]
  },
  {
   "cell_type": "markdown",
   "metadata": {},
   "source": [
    "## Summary Statistics"
   ]
  },
  {
   "cell_type": "code",
   "execution_count": 286,
   "metadata": {},
   "outputs": [
    {
     "data": {
      "text/html": [
       "<div>\n",
       "<style scoped>\n",
       "    .dataframe tbody tr th:only-of-type {\n",
       "        vertical-align: middle;\n",
       "    }\n",
       "\n",
       "    .dataframe tbody tr th {\n",
       "        vertical-align: top;\n",
       "    }\n",
       "\n",
       "    .dataframe thead th {\n",
       "        text-align: right;\n",
       "    }\n",
       "</style>\n",
       "<table border=\"1\" class=\"dataframe\">\n",
       "  <thead>\n",
       "    <tr style=\"text-align: right;\">\n",
       "      <th></th>\n",
       "      <th>Mean</th>\n",
       "      <th>Median</th>\n",
       "      <th>Variance</th>\n",
       "      <th>St. Dev.</th>\n",
       "      <th>SEM</th>\n",
       "    </tr>\n",
       "    <tr>\n",
       "      <th>Drug Regimen</th>\n",
       "      <th></th>\n",
       "      <th></th>\n",
       "      <th></th>\n",
       "      <th></th>\n",
       "      <th></th>\n",
       "    </tr>\n",
       "  </thead>\n",
       "  <tbody>\n",
       "    <tr>\n",
       "      <th>Capomulin</th>\n",
       "      <td>40.675741</td>\n",
       "      <td>41.557809</td>\n",
       "      <td>24.947764</td>\n",
       "      <td>4.994774</td>\n",
       "      <td>0.329346</td>\n",
       "    </tr>\n",
       "    <tr>\n",
       "      <th>Ceftamin</th>\n",
       "      <td>52.591172</td>\n",
       "      <td>51.776157</td>\n",
       "      <td>39.290177</td>\n",
       "      <td>6.268188</td>\n",
       "      <td>0.469821</td>\n",
       "    </tr>\n",
       "    <tr>\n",
       "      <th>Infubinol</th>\n",
       "      <td>52.884795</td>\n",
       "      <td>51.820584</td>\n",
       "      <td>43.128684</td>\n",
       "      <td>6.567243</td>\n",
       "      <td>0.492236</td>\n",
       "    </tr>\n",
       "    <tr>\n",
       "      <th>Ketapril</th>\n",
       "      <td>55.235638</td>\n",
       "      <td>53.698743</td>\n",
       "      <td>68.553577</td>\n",
       "      <td>8.279709</td>\n",
       "      <td>0.603860</td>\n",
       "    </tr>\n",
       "    <tr>\n",
       "      <th>Naftisol</th>\n",
       "      <td>54.331565</td>\n",
       "      <td>52.509285</td>\n",
       "      <td>66.173479</td>\n",
       "      <td>8.134708</td>\n",
       "      <td>0.596466</td>\n",
       "    </tr>\n",
       "    <tr>\n",
       "      <th>Placebo</th>\n",
       "      <td>54.033581</td>\n",
       "      <td>52.288934</td>\n",
       "      <td>61.168083</td>\n",
       "      <td>7.821003</td>\n",
       "      <td>0.581331</td>\n",
       "    </tr>\n",
       "    <tr>\n",
       "      <th>Propriva</th>\n",
       "      <td>52.320930</td>\n",
       "      <td>50.446266</td>\n",
       "      <td>43.852013</td>\n",
       "      <td>6.622085</td>\n",
       "      <td>0.544332</td>\n",
       "    </tr>\n",
       "    <tr>\n",
       "      <th>Ramicane</th>\n",
       "      <td>40.216745</td>\n",
       "      <td>40.673236</td>\n",
       "      <td>23.486704</td>\n",
       "      <td>4.846308</td>\n",
       "      <td>0.320955</td>\n",
       "    </tr>\n",
       "    <tr>\n",
       "      <th>Stelasyn</th>\n",
       "      <td>54.233149</td>\n",
       "      <td>52.431737</td>\n",
       "      <td>59.450562</td>\n",
       "      <td>7.710419</td>\n",
       "      <td>0.573111</td>\n",
       "    </tr>\n",
       "    <tr>\n",
       "      <th>Zoniferol</th>\n",
       "      <td>53.236507</td>\n",
       "      <td>51.818479</td>\n",
       "      <td>48.533355</td>\n",
       "      <td>6.966589</td>\n",
       "      <td>0.516398</td>\n",
       "    </tr>\n",
       "  </tbody>\n",
       "</table>\n",
       "</div>"
      ],
      "text/plain": [
       "                   Mean     Median   Variance  St. Dev.       SEM\n",
       "Drug Regimen                                                     \n",
       "Capomulin     40.675741  41.557809  24.947764  4.994774  0.329346\n",
       "Ceftamin      52.591172  51.776157  39.290177  6.268188  0.469821\n",
       "Infubinol     52.884795  51.820584  43.128684  6.567243  0.492236\n",
       "Ketapril      55.235638  53.698743  68.553577  8.279709  0.603860\n",
       "Naftisol      54.331565  52.509285  66.173479  8.134708  0.596466\n",
       "Placebo       54.033581  52.288934  61.168083  7.821003  0.581331\n",
       "Propriva      52.320930  50.446266  43.852013  6.622085  0.544332\n",
       "Ramicane      40.216745  40.673236  23.486704  4.846308  0.320955\n",
       "Stelasyn      54.233149  52.431737  59.450562  7.710419  0.573111\n",
       "Zoniferol     53.236507  51.818479  48.533355  6.966589  0.516398"
      ]
     },
     "execution_count": 286,
     "metadata": {},
     "output_type": "execute_result"
    }
   ],
   "source": [
    "# Generate a summary statistics table of mean, median, variance, standard deviation, and SEM of the tumor volume for each regimen\n",
    "\n",
    "# Use groupby and summary statistical methods to calculate the following properties of each drug regimen: \n",
    "grouped_drug = mouse_data_complete.groupby('Drug Regimen')\n",
    "\n",
    "# mean, median, variance, standard deviation, and SEM of the tumor volume. \n",
    "drug_mean =grouped_drug['Tumor Volume (mm3)'].mean()\n",
    "drug_med = grouped_drug['Tumor Volume (mm3)'].median()\n",
    "drug_var = grouped_drug['Tumor Volume (mm3)'].var()\n",
    "drug_sd = grouped_drug['Tumor Volume (mm3)'].std()\n",
    "drug_sem = grouped_drug['Tumor Volume (mm3)'].sem()\n",
    "\n",
    "# Assemble the resulting series into a single summary dataframe.\n",
    "drug_stats = pd.DataFrame({\"Mean\": drug_mean,\n",
    "                          \"Median\": drug_med,\n",
    "                          \"Variance\": drug_var,\n",
    "                          \"St. Dev.\": drug_sd,\n",
    "                          \"SEM\": drug_sem\n",
    "                          })\n",
    "# Generate a summary statistics table of mean, median, variance, standard deviation, and SEM of the tumor volume for each regimen\n",
    "drug_stats"
   ]
  },
  {
   "cell_type": "code",
   "execution_count": 287,
   "metadata": {},
   "outputs": [
    {
     "name": "stdout",
     "output_type": "stream",
     "text": [
      "                   mean     median        var       std       sem\n",
      "Drug Regimen                                                     \n",
      "Capomulin     40.675741  41.557809  24.947764  4.994774  0.329346\n",
      "Ceftamin      52.591172  51.776157  39.290177  6.268188  0.469821\n",
      "Infubinol     52.884795  51.820584  43.128684  6.567243  0.492236\n",
      "Ketapril      55.235638  53.698743  68.553577  8.279709  0.603860\n",
      "Naftisol      54.331565  52.509285  66.173479  8.134708  0.596466\n",
      "Placebo       54.033581  52.288934  61.168083  7.821003  0.581331\n",
      "Propriva      52.320930  50.446266  43.852013  6.622085  0.544332\n",
      "Ramicane      40.216745  40.673236  23.486704  4.846308  0.320955\n",
      "Stelasyn      54.233149  52.431737  59.450562  7.710419  0.573111\n",
      "Zoniferol     53.236507  51.818479  48.533355  6.966589  0.516398\n"
     ]
    }
   ],
   "source": [
    "# Using the aggregation method, produce the same summary statistics in a single line\n",
    "\n",
    "print(grouped_drug['Tumor Volume (mm3)'].agg([\"mean\",\"median\", \"var\", \"std\", \"sem\"],axis='columns'))"
   ]
  },
  {
   "cell_type": "markdown",
   "metadata": {},
   "source": [
    "## Bar and Pie Charts"
   ]
  },
  {
   "cell_type": "code",
   "execution_count": 288,
   "metadata": {},
   "outputs": [
    {
     "data": {
      "text/plain": [
       "(0.0, 240.0)"
      ]
     },
     "execution_count": 288,
     "metadata": {},
     "output_type": "execute_result"
    },
    {
     "data": {
      "image/png": "[encoded data removed]",
      "text/plain": [
       "<Figure size 432x288 with 1 Axes>"
      ]
     },
     "metadata": {
      "needs_background": "light"
     },
     "output_type": "display_data"
    }
   ],
   "source": [
    "# Generate a bar plot showing the total number of timepoints for all mice tested for each drug regimen using Pandas.\n",
    "count_timepoints = grouped_drug[\"Timepoint\"].count()\n",
    "count_timepoints.plot.bar(rot=65, color=['green'])\n",
    "plt.title(\"Total Timepoints per Drug Regiment\")\n",
    "plt.ylabel(\"Timepoints\")\n",
    "plt.ylim(0, 240)"
   ]
  },
  {
   "cell_type": "code",
   "execution_count": 289,
   "metadata": {},
   "outputs": [
    {
     "data": {
      "image/png": "[encoded data removed]",
      "text/plain": [
       "<Figure size 432x288 with 1 Axes>"
      ]
     },
     "metadata": {
      "needs_background": "light"
     },
     "output_type": "display_data"
    }
   ],
   "source": [
    "# Generate a bar plot showing the total number of timepoints for all mice tested for each drug regimen using pyplot.\n",
    "# Calculate the amount of data points for each drug regimen\n",
    "timepoint_count = mouse_data_complete['Drug Regimen'].value_counts()\n",
    "\n",
    "# Set the x_axis \n",
    "unique_regimens = mouse_data_complete[\"Drug Regimen\"].unique()\n",
    "x_axis = unique_regimens\n",
    "\n",
    "plt.bar(x_axis, timepoint_count, color='g')\n",
    "plt.xticks(rotation=65)\n",
    "\n",
    "plt.title(\"Total Timepoints per Drug Regiment\")\n",
    "plt.xlabel(\"Drug Regimen\")\n",
    "plt.ylabel(\"Timepoints\")\n",
    "plt.ylim(0, 240)\n",
    "plt.show()"
   ]
  },
  {
   "cell_type": "code",
   "execution_count": 290,
   "metadata": {},
   "outputs": [
    {
     "data": {
      "text/plain": [
       "<AxesSubplot:ylabel='Mouse Gender'>"
      ]
     },
     "execution_count": 290,
     "metadata": {},
     "output_type": "execute_result"
    },
    {
     "data": {
      "image/png": "[encoded data removed]",
      "text/plain": [
       "<Figure size 432x288 with 1 Axes>"
      ]
     },
     "metadata": {},
     "output_type": "display_data"
    }
   ],
   "source": [
    "# Generate a pie plot showing the distribution of female versus male mice using Pandas\n",
    "#This works, but shows ALL points\n",
    "#grouped_sex = mouse_data_complete.groupby('Sex')\n",
    "#sex_count = pd.DataFrame(grouped_sex['Sex'].count())\n",
    "#sex_count\n",
    "#sex_count.plot(kind='pie', subplots=True)\n",
    "\n",
    "#this is closer\n",
    "mice_ids = mouse_data_complete.groupby(\"Mouse ID\")\n",
    "gender_count = mice_ids[\"Sex\"].max()\n",
    "gender_df = pd.DataFrame({\"Sex\": gender_count})\n",
    "sex_count = gender_df.value_counts()\n",
    "sex_df = pd.DataFrame({\"Sex\": sex_count})\n",
    "sex_df.plot(kind='pie', y=\"Sex\", label=\"Mouse Gender\", autopct=\"%1.1f%%\", startangle=120)\n",
    "\n",
    "#groupby mouse ID and create df\n",
    "#group that new df by sexcreate another df"
   ]
  },
  {
   "cell_type": "code",
   "execution_count": 291,
   "metadata": {},
   "outputs": [
    {
     "data": {
      "image/png": "[encoded data removed]",
      "text/plain": [
       "<Figure size 432x288 with 1 Axes>"
      ]
     },
     "metadata": {},
     "output_type": "display_data"
    }
   ],
   "source": [
    "# Generate a pie plot showing the distribution of female versus male mice using pyplot\n",
    "\n",
    "plt.pie(x=sex_df[\"Sex\"], autopct=\"%1.1f%%\", startangle=120)\n",
    "plt.xlabel(\"Mouse Gender\")\n",
    "\n",
    "plt.show()\n"
   ]
  },
  {
   "cell_type": "code",
   "execution_count": 292,
   "metadata": {},
   "outputs": [
    {
     "data": {
      "text/html": [
       "<div>\n",
       "<style scoped>\n",
       "    .dataframe tbody tr th:only-of-type {\n",
       "        vertical-align: middle;\n",
       "    }\n",
       "\n",
       "    .dataframe tbody tr th {\n",
       "        vertical-align: top;\n",
       "    }\n",
       "\n",
       "    .dataframe thead th {\n",
       "        text-align: right;\n",
       "    }\n",
       "</style>\n",
       "<table border=\"1\" class=\"dataframe\">\n",
       "  <thead>\n",
       "    <tr style=\"text-align: right;\">\n",
       "      <th></th>\n",
       "      <th>Drug Regimen</th>\n",
       "      <th>Mouse ID</th>\n",
       "      <th>Final Tumor Volume(mm3)</th>\n",
       "    </tr>\n",
       "  </thead>\n",
       "  <tbody>\n",
       "    <tr>\n",
       "      <th>19</th>\n",
       "      <td>Capomulin</td>\n",
       "      <td>s185</td>\n",
       "      <td>23.343598</td>\n",
       "    </tr>\n",
       "    <tr>\n",
       "      <th>29</th>\n",
       "      <td>Capomulin</td>\n",
       "      <td>x401</td>\n",
       "      <td>28.484033</td>\n",
       "    </tr>\n",
       "    <tr>\n",
       "      <th>39</th>\n",
       "      <td>Capomulin</td>\n",
       "      <td>m601</td>\n",
       "      <td>28.430964</td>\n",
       "    </tr>\n",
       "    <tr>\n",
       "      <th>64</th>\n",
       "      <td>Capomulin</td>\n",
       "      <td>f966</td>\n",
       "      <td>30.485985</td>\n",
       "    </tr>\n",
       "    <tr>\n",
       "      <th>104</th>\n",
       "      <td>Capomulin</td>\n",
       "      <td>u364</td>\n",
       "      <td>31.023923</td>\n",
       "    </tr>\n",
       "  </tbody>\n",
       "</table>\n",
       "</div>"
      ],
      "text/plain": [
       "    Drug Regimen Mouse ID  Final Tumor Volume(mm3)\n",
       "19     Capomulin     s185                23.343598\n",
       "29     Capomulin     x401                28.484033\n",
       "39     Capomulin     m601                28.430964\n",
       "64     Capomulin     f966                30.485985\n",
       "104    Capomulin     u364                31.023923"
      ]
     },
     "execution_count": 292,
     "metadata": {},
     "output_type": "execute_result"
    }
   ],
   "source": [
    "# Calculate the final tumor volume of each mouse across four of the treatment regimens: Capomulin, Ramicane, Infubinol, and Ceftamin\n",
    "# Start by getting the last (greatest) timepoint for each mouse\n",
    "grouped_mice = mouse_data_complete.groupby(\"Mouse ID\").agg('last')\n",
    "grouped_mice.drop(columns=['Drug Regimen','Sex', 'Age_months', 'Weight (g)', 'Timepoint', 'Metastatic Sites'], inplace=True)\n",
    "\n",
    "# Merge this group df with the original dataframe to get the tumor volume at the last timepoint\n",
    "complete_data_updated = pd.merge(mouse_data_complete, grouped_mice, how=\"inner\", on=\"Mouse ID\")\n",
    "complete_data_updated.rename(columns={\"Tumor Volume (mm3)_x\": \"Tumor Volume (mm3)\", \"Tumor Volume (mm3)_y\": \"Final Tumor Volume (mm3)\"}, inplace=True)\n",
    "\n",
    "#create a list for mouse id, drug, and final vol\n",
    "drug = complete_data_updated[\"Drug Regimen\"]\n",
    "mouse =  complete_data_updated[\"Mouse ID\"]\n",
    "tumor_vol = complete_data_updated[\"Final Tumor Volume (mm3)\"]\n",
    "drug_tumor_vol = pd.DataFrame({\"Drug Regimen\": drug,\n",
    "                              \"Mouse ID\": mouse,\n",
    "                              \"Final Tumor Volume(mm3)\": tumor_vol\n",
    "                              })\n",
    "\n",
    "#drop duplicates based on mouse ID\n",
    "clean_drug_tumor_vol = drug_tumor_vol.drop_duplicates(['Mouse ID'], keep='last')\n",
    "\n",
    "# create dfs only containing Capomulin, Ramicane, Infubinol, and Ceftamin\n",
    "#clean_drug_tumor_vol = clean_drug_tumor_vol[(clean_drug_tumor_vol['Drug Regimen'] == 'Capomulin') | (clean_drug_tumor_vol['Drug Regimen'] == 'Ramicane') | (clean_drug_tumor_vol['Drug Regimen'] == 'Infubinol') | (clean_drug_tumor_vol['Drug Regimen'] == 'Ceftamin')]\n",
    "#clean_drug_tumor_vol\n",
    "capomulin_tumor_vol = clean_drug_tumor_vol[(clean_drug_tumor_vol['Drug Regimen'] == 'Capomulin')]\n",
    "ramicane_tumor_vol =  clean_drug_tumor_vol[(clean_drug_tumor_vol['Drug Regimen'] == 'Ramicane')]\n",
    "infubinol_tumor_vol =  clean_drug_tumor_vol[(clean_drug_tumor_vol['Drug Regimen'] == 'Infubinol')]\n",
    "ceftamin_tumor_vol =  clean_drug_tumor_vol[(clean_drug_tumor_vol['Drug Regimen'] == 'Ceftamin')]\n",
    "capomulin_tumor_vol.head()"
   ]
  },
  {
   "cell_type": "code",
   "execution_count": 293,
   "metadata": {},
   "outputs": [],
   "source": [
    "# Calculate the IQR and quantitatively determine if there are any potential outliers. \n",
    "cap_quartiles = capomulin_tumor_vol['Final Tumor Volume(mm3)'].quantile([.25,.5,.75])\n",
    "cap_lq = cap_quartiles[0.25]\n",
    "cap_uq = cap_quartiles[0.75]\n",
    "cap_iqr = cap_uq-cap_lq\n",
    "cap_lb = cap_lq - (1.5*cap_iqr)\n",
    "cap_ub = cap_uq + (1.5*cap_iqr)\n",
    "\n",
    "ram_quartiles = ramicane_tumor_vol['Final Tumor Volume(mm3)'].quantile([.25,.5,.75])\n",
    "ram_lq = ram_quartiles[0.25]\n",
    "ram_uq = ram_quartiles[0.75]\n",
    "ram_iqr = ram_uq-ram_lq\n",
    "ram_lb = ram_lq - (1.5*ram_iqr)\n",
    "ram_ub = ram_uq + (1.5*ram_iqr)\n",
    "\n",
    "inf_quartiles = infubinol_tumor_vol['Final Tumor Volume(mm3)'].quantile([.25,.5,.75])\n",
    "inf_lq = inf_quartiles[0.25]\n",
    "inf_uq = inf_quartiles[0.75]\n",
    "inf_iqr = inf_uq-inf_lq\n",
    "inf_lb = inf_lq - (1.5*inf_iqr)\n",
    "inf_ub = inf_uq + (1.5*inf_iqr)\n",
    "\n",
    "cef_quartiles = ceftamin_tumor_vol['Final Tumor Volume(mm3)'].quantile([.25,.5,.75])\n",
    "cef_lq = cef_quartiles[0.25]\n",
    "cef_uq = cef_quartiles[0.75]\n",
    "cef_iqr = cef_uq-cef_lq\n",
    "cef_lb = cef_lq - (1.5*cef_iqr)\n",
    "cef_ub = cef_uq + (1.5*cef_iqr)\n",
    "    \n",
    "    \n",
    "# Determine outliers using upper and lower bounds\n",
    "cap_outliers = capomulin_tumor_vol.loc[(capomulin_tumor_vol['Final Tumor Volume(mm3)'] > cap_ub) | (capomulin_tumor_vol['Final Tumor Volume(mm3)'] < cap_lb), :]   \n",
    "ram_outliers = ramicane_tumor_vol.loc[(ramicane_tumor_vol['Final Tumor Volume(mm3)'] > ram_ub) | (ramicane_tumor_vol['Final Tumor Volume(mm3)'] < ram_lb), :]    \n",
    "inf_outliers = infubinol_tumor_vol.loc[(infubinol_tumor_vol['Final Tumor Volume(mm3)'] > inf_ub) | (infubinol_tumor_vol['Final Tumor Volume(mm3)'] < inf_lb), :]    \n",
    "cef_outliers = ceftamin_tumor_vol.loc[(ceftamin_tumor_vol['Final Tumor Volume(mm3)'] > cef_ub) | (ceftamin_tumor_vol['Final Tumor Volume(mm3)'] < cef_lb), :]    \n"
   ]
  },
  {
   "cell_type": "code",
   "execution_count": 294,
   "metadata": {},
   "outputs": [
    {
     "data": {
      "image/png": "[encoded data removed]",
      "text/plain": [
       "<Figure size 432x288 with 4 Axes>"
      ]
     },
     "metadata": {
      "needs_background": "light"
     },
     "output_type": "display_data"
    }
   ],
   "source": [
    "# Generate a box plot of the final tumor volume of each mouse across four regimens of interest\n",
    "cap_tumor_vol = capomulin_tumor_vol['Final Tumor Volume(mm3)']\n",
    "ram_tumor_vol = ramicane_tumor_vol['Final Tumor Volume(mm3)']\n",
    "inf_tumor_vol = infubinol_tumor_vol['Final Tumor Volume(mm3)']\n",
    "cef_tumor_vol = ceftamin_tumor_vol['Final Tumor Volume(mm3)']\n",
    "\n",
    "#create outlier marker\n",
    "outlier_marker = dict(markerfacecolor='r', marker='o')\n",
    "\n",
    "#create figure for mult plots\n",
    "fig, axs = plt.subplots(nrows=1, ncols=4)\n",
    "\n",
    "#add title\n",
    "fig.suptitle('Final Tumor Volume(mm3) per Drug Regimen')\n",
    "\n",
    "#add data to plots\n",
    "axs[0].boxplot(cap_tumor_vol)\n",
    "axs[1].boxplot(ram_tumor_vol)\n",
    "axs[2].boxplot(inf_tumor_vol, flierprops=outlier_marker)\n",
    "axs[3].boxplot(cef_tumor_vol)\n",
    "\n",
    "#label x-axes\n",
    "axs[0].set_xlabel('Capomulin') \n",
    "axs[1].set_xlabel('Ramicane') \n",
    "axs[2].set_xlabel('Infubinol') \n",
    "axs[3].set_xlabel('Ceftamin') \n",
    "\n",
    "plt.ylim(0, 70)\n",
    "\n",
    "fig.tight_layout()\n"
   ]
  },
  {
   "cell_type": "markdown",
   "metadata": {},
   "source": [
    "## Line and Scatter Plots"
   ]
  },
  {
   "cell_type": "code",
   "execution_count": 295,
   "metadata": {},
   "outputs": [
    {
     "data": {
      "image/png": "[encoded data removed]",
      "text/plain": [
       "<Figure size 432x288 with 1 Axes>"
      ]
     },
     "metadata": {
      "needs_background": "light"
     },
     "output_type": "display_data"
    }
   ],
   "source": [
    "# Generate a line plot of tumor volume vs. time point for a mouse treated with Capomulin\n",
    "\n",
    "s185_tumor_vol = mouse_data_complete.loc[mouse_data_complete[\"Mouse ID\"] == \"s185\", 'Tumor Volume (mm3)']\n",
    "s185_timepoints = mouse_data_complete.loc[mouse_data_complete[\"Mouse ID\"] == \"s185\", 'Timepoint']\n",
    "s185_weight = mouse_data_complete.loc[mouse_data_complete[\"Mouse ID\"] == \"s185\", 'Weight (g)']\n",
    "\n",
    "plt.plot(s185_timepoints, s185_tumor_vol, marker=\"o\")\n",
    "plt.xlabel(\"Timepoint\")\n",
    "plt.ylabel(\"Tumor Volume (mm3)\")\n",
    "plt.title(\"Timepoint Tumor Volume\")\n",
    "plt.show()"
   ]
  },
  {
   "cell_type": "code",
   "execution_count": 296,
   "metadata": {},
   "outputs": [
    {
     "data": {
      "image/png": "[encoded data removed]",
      "text/plain": [
       "<Figure size 432x288 with 1 Axes>"
      ]
     },
     "metadata": {
      "needs_background": "light"
     },
     "output_type": "display_data"
    }
   ],
   "source": [
    "# Generate a scatter plot of average tumor volume vs. mouse weight for the Capomulin regimen\n",
    "\n",
    "Capomulin_data = mouse_data_complete.loc[(mouse_data_complete[\"Drug Regimen\"] == \"Capomulin\"),:]\n",
    "mouse_weight = Capomulin_data.groupby(Capomulin_data[\"Mouse ID\"])[\"Weight (g)\"].mean()\n",
    "tumor_volume = Capomulin_data.groupby(Capomulin_data[\"Mouse ID\"])[\"Tumor Volume (mm3)\"].mean()\n",
    "\n",
    "plt.scatter(mouse_weight,tumor_volume)\n",
    "plt.xlabel(\"Weight of Mouse\")\n",
    "plt.ylabel(\"Tumor Volume\")\n",
    "plt.title(\"Tumor Volume vs. Mouse Weight\")\n",
    "plt.show()"
   ]
  },
  {
   "cell_type": "markdown",
   "metadata": {},
   "source": [
    "## Correlation and Regression"
   ]
  },
  {
   "cell_type": "code",
   "execution_count": 297,
   "metadata": {},
   "outputs": [
    {
     "data": {
      "image/png": "[encoded data removed]",
      "text/plain": [
       "<Figure size 432x288 with 1 Axes>"
      ]
     },
     "metadata": {
      "needs_background": "light"
     },
     "output_type": "display_data"
    },
    {
     "name": "stdout",
     "output_type": "stream",
     "text": [
      "The correlation between both factors is 0.84\n"
     ]
    }
   ],
   "source": [
    "# Calculate the correlation coefficient and linear regression model \n",
    "# for mouse weight and average tumor volume for the Capomulin regimen\n",
    "correlation = st.pearsonr(mouse_weight,tumor_volume)\n",
    "\n",
    "x_values = mouse_weight\n",
    "y_values = tumor_volume\n",
    "(slope, intercept, rvalue, pvalue, stderr) = linregress(x_values, y_values)\n",
    "regress_values = x_values * slope + intercept\n",
    "line_eq = \"y = \" + str(round(slope,2)) + \"x + \" + str(round(intercept,2))\n",
    "plt.scatter(x_values,y_values)\n",
    "plt.plot(x_values,regress_values,\"r-\")\n",
    "plt.annotate(line_eq,(6,10),fontsize=15,color=\"red\")\n",
    "plt.xlabel(\"Weight of Mouse\")\n",
    "plt.ylabel(\"Tumor Volume\")\n",
    "plt.title(\"Tumor Volume vs. Mouse Weight\")\n",
    "plt.show()\n",
    "\n",
    "print(f\"The correlation between both factors is {round(correlation[0],2)}\")"
   ]
  },
  {
   "cell_type": "markdown",
   "metadata": {},
   "source": []
  }
 ],
 "metadata": {
  "anaconda-cloud": {},
  "kernelspec": {
   "display_name": "Python [conda env:PythonData] *",
   "language": "python",
   "name": "conda-env-PythonData-py"
  },
  "language_info": {
   "codemirror_mode": {
    "name": "ipython",
    "version": 3
   },
   "file_extension": ".py",
   "mimetype": "text/x-python",
   "name": "python",
   "nbconvert_exporter": "python",
   "pygments_lexer": "ipython3",
   "version": "3.8.11"
  }
 },
 "nbformat": 4,
 "nbformat_minor": 4
}
